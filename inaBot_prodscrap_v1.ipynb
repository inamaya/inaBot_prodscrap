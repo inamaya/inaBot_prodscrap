{
  "nbformat": 4,
  "nbformat_minor": 0,
  "metadata": {
    "colab": {
      "name": "inaBot_prodscrap_v1.ipynb",
      "provenance": [],
      "collapsed_sections": [],
      "authorship_tag": "ABX9TyNJFvgyE9UlrTTcy/mn1FAr",
      "include_colab_link": true
    },
    "kernelspec": {
      "name": "python3",
      "display_name": "Python 3"
    },
    "language_info": {
      "name": "python"
    }
  },
  "cells": [
    {
      "cell_type": "markdown",
      "metadata": {
        "id": "view-in-github",
        "colab_type": "text"
      },
      "source": [
        "<a href=\"https://colab.research.google.com/github/inamaya/inaBot_prodscrap/blob/main/inaBot_prodscrap_v1.ipynb\" target=\"_parent\"><img src=\"https://colab.research.google.com/assets/colab-badge.svg\" alt=\"Open In Colab\"/></a>"
      ]
    },
    {
      "cell_type": "code",
      "metadata": {
        "id": "iIysJB8pCz7B"
      },
      "source": [
        "#https://www.crummy.com/software/BeautifulSoup/bs4/doc/#string\n",
        "import requests # / https://www.geeksforgeeks.org/implementing-web-scraping-python-beautiful-soup/\n",
        "import bs4\n",
        "from bs4 import BeautifulSoup\n",
        "import pandas as pd\n",
        "import re\n",
        "from time import *\n",
        "from random import randint\n",
        "\n",
        "\n",
        "url = 'https://msahlbergjewelry.com/sitemap_products_1.xml?from=2388995440717&to=6597917966413'\n",
        "\n",
        "headers = {\n",
        "    'User-Agent': \"Mozilla/5.0 (Linux; Android 6.0; Nexus 5 Build/MRA58N) AppleWebKit/537.36 (KHTML, like Gecko) Chrome/91.0.4472.77 Mobile Safari/537.36\"\n",
        "}\n",
        "r = requests.get(url,{'headers':headers})\n",
        "soup = bs4.BeautifulSoup(r.text,'html.parser')\n",
        "txt = soup.find_all('loc') #soup.find_all('div', {'class': 'name-of-class'})\n",
        "#print(txt) #-> liste"
      ],
      "execution_count": null,
      "outputs": []
    },
    {
      "cell_type": "code",
      "metadata": {
        "colab": {
          "base_uri": "https://localhost:8080/"
        },
        "id": "QjNUgc3GFxJD",
        "outputId": "dfe3edb5-ab17-4f7d-cbba-c7f10cb38d3d"
      },
      "source": [
        "#url_list = soup.find_all('loc')\n",
        "url_list = soup.find_all(string=re.compile(\"products\"))\n",
        "#print(url_list)\n",
        "len(url_list)"
      ],
      "execution_count": null,
      "outputs": [
        {
          "output_type": "execute_result",
          "data": {
            "text/plain": [
              "166"
            ]
          },
          "metadata": {
            "tags": []
          },
          "execution_count": 4
        }
      ]
    },
    {
      "cell_type": "code",
      "metadata": {
        "id": "LAfRTubVF4wh"
      },
      "source": [
        "import requests\n",
        "from bs4 import BeautifulSoup as bs\n",
        "URL = url_list\n",
        "  \n",
        "for url in range(0,166):\n",
        "    req = requests.get(URL[url])\n",
        "    soup = bs(req.text, 'html.parser')\n",
        "  \n",
        "    titles = soup.find_all('h1',attrs={'class','product-single__title'})\n",
        "    price = soup.find_all('span',attrs={'class','price-item price-item--regular'})\n",
        "    print(titles + price)\n",
        "    #sleep(randint(2,10)) #vitesse aléatoire"
      ],
      "execution_count": null,
      "outputs": []
    }
  ]
}